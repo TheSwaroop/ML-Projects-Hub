{
 "cells": [
  {
   "cell_type": "code",
   "execution_count": 1,
   "id": "28d65b58-9659-4066-969a-8be3d4317817",
   "metadata": {},
   "outputs": [],
   "source": [
    "import numpy as np\n",
    "from sklearn.model_selection import train_test_split\n",
    "from sklearn.preprocessing import OneHotEncoder, MinMaxScaler\n",
    "import pandas as pd"
   ]
  },
  {
   "cell_type": "code",
   "execution_count": 2,
   "id": "dd3a5c43-b376-4751-8fbb-5ec84169ed2f",
   "metadata": {},
   "outputs": [],
   "source": [
    "# Sigmoid activation function and its derivative\n",
    "def sigmoid(x):\n",
    "    return 1 / (1 + np.exp(-x))\n",
    "\n",
    "def sigmoid_derivative(x):\n",
    "    return x * (1 - x)"
   ]
  },
  {
   "cell_type": "code",
   "execution_count": 3,
   "id": "9d3c8d75-7a41-4042-b91a-b6061138ed48",
   "metadata": {},
   "outputs": [],
   "source": [
    "# Load and preprocess Air Quality dataset\n",
    "def load_air_quality_data(file_path):\n",
    "    data = pd.read_csv(file_path)\n",
    "    features = [\"PM2.5\", \"NO2\", \"CO\", \"Temperature\", \"Humidity\"]\n",
    "    target = \"AQI_Level\"\n",
    "    X = data[features].values\n",
    "    y = data[target].values.reshape(-1, 1)\n",
    "    \n",
    "    encoder = OneHotEncoder(sparse_output=False)\n",
    "    y = encoder.fit_transform(y)\n",
    "    \n",
    "    scaler = MinMaxScaler()\n",
    "    X = scaler.fit_transform(X)\n",
    "    \n",
    "    X_train, X_test, y_train, y_test = train_test_split(X, y, test_size=0.2, random_state=42)\n",
    "    return X_train, X_test, y_train, y_test, scaler, encoder\n"
   ]
  },
  {
   "cell_type": "code",
   "execution_count": 4,
   "id": "d0d59302-000a-45d8-a20a-ade14d858961",
   "metadata": {},
   "outputs": [],
   "source": [
    "# Neural Network class\n",
    "class NeuralNetwork:\n",
    "    def __init__(self, input_size, hidden_size, output_size):\n",
    "        self.W1 = np.random.randn(input_size, hidden_size) * 0.01\n",
    "        self.b1 = np.zeros((1, hidden_size))\n",
    "        self.W2 = np.random.randn(hidden_size, output_size) * 0.01\n",
    "        self.b2 = np.zeros((1, output_size))\n",
    "\n",
    "    def forward(self, X):\n",
    "        self.z1 = np.dot(X, self.W1) + self.b1\n",
    "        self.a1 = sigmoid(self.z1)\n",
    "        self.z2 = np.dot(self.a1, self.W2) + self.b2\n",
    "        self.a2 = sigmoid(self.z2)\n",
    "        return self.a2\n",
    "\n",
    "    def backward(self, X, y, output, learning_rate):\n",
    "        self.error = y - output\n",
    "        self.delta2 = self.error * sigmoid_derivative(output)\n",
    "        self.error_hidden = np.dot(self.delta2, self.W2.T)\n",
    "        self.delta1 = self.error_hidden * sigmoid_derivative(self.a1)\n",
    "        self.W2 += learning_rate * np.dot(self.a1.T, self.delta2)\n",
    "        self.b2 += learning_rate * np.sum(self.delta2, axis=0, keepdims=True)\n",
    "        self.W1 += learning_rate * np.dot(X.T, self.delta1)\n",
    "        self.b1 += learning_rate * np.sum(self.delta1, axis=0, keepdims=True)\n",
    "\n",
    "    def train(self, X, y, epochs, learning_rate):\n",
    "        for epoch in range(epochs):\n",
    "            output = self.forward(X)\n",
    "            self.backward(X, y, output, learning_rate)\n",
    "            if epoch % 100 == 0:\n",
    "                loss = np.mean(np.square(y - output))\n",
    "                print(f\"Epoch {epoch}, Loss: {loss:.4f}\")\n",
    "\n",
    "    def predict(self, X):\n",
    "        output = self.forward(X)\n",
    "        return np.argmax(output, axis=1)"
   ]
  },
  {
   "cell_type": "code",
   "execution_count": 5,
   "id": "83bf9a18-d92a-4802-9710-602c542ec44e",
   "metadata": {},
   "outputs": [
    {
     "name": "stdout",
     "output_type": "stream",
     "text": [
      "Epoch 0, Loss: 0.2511\n",
      "Epoch 100, Loss: 0.1332\n",
      "Epoch 200, Loss: 0.1131\n",
      "Epoch 300, Loss: 0.1190\n",
      "Epoch 400, Loss: 0.1109\n",
      "Epoch 500, Loss: 0.0942\n",
      "Epoch 600, Loss: 0.1029\n",
      "Epoch 700, Loss: 0.0799\n",
      "Epoch 800, Loss: 0.0645\n",
      "Epoch 900, Loss: 0.0636\n",
      "\n",
      "Test Accuracy: 66.00%\n"
     ]
    }
   ],
   "source": [
    "# Main execution\n",
    "if __name__ == \"__main__\":\n",
    "    file_path = r\"C:\\Users\\SWAROOP\\Desktop\\air_quality_dataset.csv\"\n",
    "    X_train, X_test, y_train, y_test, scaler, encoder = load_air_quality_data(file_path)\n",
    "    nn = NeuralNetwork(input_size=5, hidden_size=6, output_size=y_train.shape[1])\n",
    "    nn.train(X_train, y_train, epochs=1000, learning_rate=0.1)\n",
    "    y_pred = nn.predict(X_test)\n",
    "    y_test_labels = np.argmax(y_test, axis=1)\n",
    "    accuracy = np.mean(y_pred == y_test_labels)\n",
    "    print(f\"\\nTest Accuracy: {accuracy * 100:.2f}%\")\n",
    "    \n"
   ]
  },
  {
   "cell_type": "code",
   "execution_count": 7,
   "id": "cfa678c2-9853-4785-9280-1f0398fb462f",
   "metadata": {},
   "outputs": [
    {
     "name": "stdout",
     "output_type": "stream",
     "text": [
      "\n",
      "Predictions for new test data:\n",
      "Sample 1: Predicted AQI Level - Moderate\n",
      "Sample 2: Predicted AQI Level - Moderate\n",
      "Sample 3: Predicted AQI Level - Unhealthy for Sensitive Groups\n",
      "Sample 4: Predicted AQI Level - Unhealthy\n",
      "Sample 5: Predicted AQI Level - Very Unhealthy\n"
     ]
    }
   ],
   "source": [
    " # New test data\n",
    " new_test_data = np.array([[15, 20, 0.5, 5, 30],\n",
    "                               [75, 85, 2.5, 15, 50],\n",
    "                               [120, 130, 5.0, 25, 60],\n",
    "                               [180, 160, 7.5, 30, 75],\n",
    "                               [250, 190, 9.5, 35, 85]])\n",
    "\n",
    "# Normalize the new test data using the same scaler\n",
    "new_test_data = scaler.transform(new_test_data)\n",
    "\n",
    "# Predict the AQI level for new data\n",
    "new_predictions = nn.predict(new_test_data)\n",
    " decoded_predictions = encoder.inverse_transform(np.eye(y_train.shape[1])[new_predictions])\n",
    "\n",
    "print(\"\\nPredictions for new test data:\")\n",
    "for i, pred in enumerate(decoded_predictions):\n",
    "    print(f\"Sample {i+1}: Predicted AQI Level - {pred[0]}\")\n"
   ]
  },
  {
   "cell_type": "code",
   "execution_count": null,
   "id": "13230bca-4906-4ab1-878d-bf11152295fa",
   "metadata": {},
   "outputs": [],
   "source": []
  }
 ],
 "metadata": {
  "kernelspec": {
   "display_name": "Python 3 (ipykernel)",
   "language": "python",
   "name": "python3"
  },
  "language_info": {
   "codemirror_mode": {
    "name": "ipython",
    "version": 3
   },
   "file_extension": ".py",
   "mimetype": "text/x-python",
   "name": "python",
   "nbconvert_exporter": "python",
   "pygments_lexer": "ipython3",
   "version": "3.12.7"
  }
 },
 "nbformat": 4,
 "nbformat_minor": 5
}
